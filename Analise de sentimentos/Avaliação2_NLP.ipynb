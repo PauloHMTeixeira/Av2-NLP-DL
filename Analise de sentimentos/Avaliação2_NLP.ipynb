{
  "nbformat": 4,
  "nbformat_minor": 0,
  "metadata": {
    "colab": {
      "name": "Avaliação2 NLP.ipynb",
      "provenance": [],
      "collapsed_sections": []
    },
    "kernelspec": {
      "name": "python3",
      "display_name": "Python 3"
    },
    "language_info": {
      "name": "python"
    }
  },
  "cells": [
    {
      "cell_type": "code",
      "source": [
        "!pip install vaderSentiment"
      ],
      "metadata": {
        "colab": {
          "base_uri": "https://localhost:8080/"
        },
        "id": "02ZtS4kDf-Ex",
        "outputId": "99b6dd9b-3b03-4ac0-f91e-c4f30c4f626e"
      },
      "execution_count": null,
      "outputs": [
        {
          "output_type": "stream",
          "name": "stdout",
          "text": [
            "Looking in indexes: https://pypi.org/simple, https://us-python.pkg.dev/colab-wheels/public/simple/\n",
            "Collecting vaderSentiment\n",
            "  Downloading vaderSentiment-3.3.2-py2.py3-none-any.whl (125 kB)\n",
            "\u001b[K     |████████████████████████████████| 125 kB 4.1 MB/s \n",
            "\u001b[?25hRequirement already satisfied: requests in /usr/local/lib/python3.7/dist-packages (from vaderSentiment) (2.23.0)\n",
            "Requirement already satisfied: idna<3,>=2.5 in /usr/local/lib/python3.7/dist-packages (from requests->vaderSentiment) (2.10)\n",
            "Requirement already satisfied: chardet<4,>=3.0.2 in /usr/local/lib/python3.7/dist-packages (from requests->vaderSentiment) (3.0.4)\n",
            "Requirement already satisfied: urllib3!=1.25.0,!=1.25.1,<1.26,>=1.21.1 in /usr/local/lib/python3.7/dist-packages (from requests->vaderSentiment) (1.24.3)\n",
            "Requirement already satisfied: certifi>=2017.4.17 in /usr/local/lib/python3.7/dist-packages (from requests->vaderSentiment) (2022.5.18.1)\n",
            "Installing collected packages: vaderSentiment\n",
            "Successfully installed vaderSentiment-3.3.2\n"
          ]
        }
      ]
    },
    {
      "cell_type": "code",
      "execution_count": null,
      "metadata": {
        "id": "YFEO32E7S2Oa"
      },
      "outputs": [],
      "source": [
        "import numpy as np\n",
        "import pandas as pd\n",
        "import matplotlib.pyplot as plt\n",
        "import seaborn as sns\n",
        "import warnings\n",
        "import vaderSentiment\n",
        "warnings.filterwarnings('ignore')"
      ]
    },
    {
      "cell_type": "markdown",
      "source": [
        "Importando todas as bibliotecas incluindo o pacote do modelo que vou utilizar para análise de sentimentos, o VADER"
      ],
      "metadata": {
        "id": "hyVK4LxGVGuW"
      }
    },
    {
      "cell_type": "code",
      "source": [
        "train=pd.read_csv('train.csv')"
      ],
      "metadata": {
        "id": "CKc9oDfdVNvR"
      },
      "execution_count": null,
      "outputs": []
    },
    {
      "cell_type": "markdown",
      "source": [
        "Dando uma olhada nos dados"
      ],
      "metadata": {
        "id": "V__jntmiVY0H"
      }
    },
    {
      "cell_type": "code",
      "source": [
        "train.drop(['Description','RescuerID'],axis=1).head()"
      ],
      "metadata": {
        "colab": {
          "base_uri": "https://localhost:8080/",
          "height": 236
        },
        "id": "meIFNTHlTLrV",
        "outputId": "6ceddc79-3624-485a-f29a-77e213c97a32"
      },
      "execution_count": null,
      "outputs": [
        {
          "output_type": "execute_result",
          "data": {
            "text/plain": [
              "   Type         Name  Age  Breed1  Breed2  Gender  Color1  Color2  Color3  \\\n",
              "0     2       Nibble    3     299       0       1       1       7       0   \n",
              "1     2  No Name Yet    1     265       0       1       1       2       0   \n",
              "2     1       Brisco    1     307       0       1       2       7       0   \n",
              "3     1         Miko    4     307       0       2       1       2       0   \n",
              "4     1       Hunter    1     307       0       1       1       0       0   \n",
              "\n",
              "   MaturitySize  ...  Dewormed  Sterilized  Health  Quantity  Fee  State  \\\n",
              "0             1  ...         2           2       1         1  100  41326   \n",
              "1             2  ...         3           3       1         1    0  41401   \n",
              "2             2  ...         1           2       1         1    0  41326   \n",
              "3             2  ...         1           2       1         1  150  41401   \n",
              "4             2  ...         2           2       1         1    0  41326   \n",
              "\n",
              "   VideoAmt      PetID  PhotoAmt AdoptionSpeed  \n",
              "0         0  86e1089a3       1.0             2  \n",
              "1         0  6296e909a       2.0             0  \n",
              "2         0  3422e4906       7.0             3  \n",
              "3         0  5842f1ff5       8.0             2  \n",
              "4         0  850a43f90       3.0             2  \n",
              "\n",
              "[5 rows x 22 columns]"
            ],
            "text/html": [
              "\n",
              "  <div id=\"df-958fc168-0d06-4550-b2ee-f2504159a57e\">\n",
              "    <div class=\"colab-df-container\">\n",
              "      <div>\n",
              "<style scoped>\n",
              "    .dataframe tbody tr th:only-of-type {\n",
              "        vertical-align: middle;\n",
              "    }\n",
              "\n",
              "    .dataframe tbody tr th {\n",
              "        vertical-align: top;\n",
              "    }\n",
              "\n",
              "    .dataframe thead th {\n",
              "        text-align: right;\n",
              "    }\n",
              "</style>\n",
              "<table border=\"1\" class=\"dataframe\">\n",
              "  <thead>\n",
              "    <tr style=\"text-align: right;\">\n",
              "      <th></th>\n",
              "      <th>Type</th>\n",
              "      <th>Name</th>\n",
              "      <th>Age</th>\n",
              "      <th>Breed1</th>\n",
              "      <th>Breed2</th>\n",
              "      <th>Gender</th>\n",
              "      <th>Color1</th>\n",
              "      <th>Color2</th>\n",
              "      <th>Color3</th>\n",
              "      <th>MaturitySize</th>\n",
              "      <th>...</th>\n",
              "      <th>Dewormed</th>\n",
              "      <th>Sterilized</th>\n",
              "      <th>Health</th>\n",
              "      <th>Quantity</th>\n",
              "      <th>Fee</th>\n",
              "      <th>State</th>\n",
              "      <th>VideoAmt</th>\n",
              "      <th>PetID</th>\n",
              "      <th>PhotoAmt</th>\n",
              "      <th>AdoptionSpeed</th>\n",
              "    </tr>\n",
              "  </thead>\n",
              "  <tbody>\n",
              "    <tr>\n",
              "      <th>0</th>\n",
              "      <td>2</td>\n",
              "      <td>Nibble</td>\n",
              "      <td>3</td>\n",
              "      <td>299</td>\n",
              "      <td>0</td>\n",
              "      <td>1</td>\n",
              "      <td>1</td>\n",
              "      <td>7</td>\n",
              "      <td>0</td>\n",
              "      <td>1</td>\n",
              "      <td>...</td>\n",
              "      <td>2</td>\n",
              "      <td>2</td>\n",
              "      <td>1</td>\n",
              "      <td>1</td>\n",
              "      <td>100</td>\n",
              "      <td>41326</td>\n",
              "      <td>0</td>\n",
              "      <td>86e1089a3</td>\n",
              "      <td>1.0</td>\n",
              "      <td>2</td>\n",
              "    </tr>\n",
              "    <tr>\n",
              "      <th>1</th>\n",
              "      <td>2</td>\n",
              "      <td>No Name Yet</td>\n",
              "      <td>1</td>\n",
              "      <td>265</td>\n",
              "      <td>0</td>\n",
              "      <td>1</td>\n",
              "      <td>1</td>\n",
              "      <td>2</td>\n",
              "      <td>0</td>\n",
              "      <td>2</td>\n",
              "      <td>...</td>\n",
              "      <td>3</td>\n",
              "      <td>3</td>\n",
              "      <td>1</td>\n",
              "      <td>1</td>\n",
              "      <td>0</td>\n",
              "      <td>41401</td>\n",
              "      <td>0</td>\n",
              "      <td>6296e909a</td>\n",
              "      <td>2.0</td>\n",
              "      <td>0</td>\n",
              "    </tr>\n",
              "    <tr>\n",
              "      <th>2</th>\n",
              "      <td>1</td>\n",
              "      <td>Brisco</td>\n",
              "      <td>1</td>\n",
              "      <td>307</td>\n",
              "      <td>0</td>\n",
              "      <td>1</td>\n",
              "      <td>2</td>\n",
              "      <td>7</td>\n",
              "      <td>0</td>\n",
              "      <td>2</td>\n",
              "      <td>...</td>\n",
              "      <td>1</td>\n",
              "      <td>2</td>\n",
              "      <td>1</td>\n",
              "      <td>1</td>\n",
              "      <td>0</td>\n",
              "      <td>41326</td>\n",
              "      <td>0</td>\n",
              "      <td>3422e4906</td>\n",
              "      <td>7.0</td>\n",
              "      <td>3</td>\n",
              "    </tr>\n",
              "    <tr>\n",
              "      <th>3</th>\n",
              "      <td>1</td>\n",
              "      <td>Miko</td>\n",
              "      <td>4</td>\n",
              "      <td>307</td>\n",
              "      <td>0</td>\n",
              "      <td>2</td>\n",
              "      <td>1</td>\n",
              "      <td>2</td>\n",
              "      <td>0</td>\n",
              "      <td>2</td>\n",
              "      <td>...</td>\n",
              "      <td>1</td>\n",
              "      <td>2</td>\n",
              "      <td>1</td>\n",
              "      <td>1</td>\n",
              "      <td>150</td>\n",
              "      <td>41401</td>\n",
              "      <td>0</td>\n",
              "      <td>5842f1ff5</td>\n",
              "      <td>8.0</td>\n",
              "      <td>2</td>\n",
              "    </tr>\n",
              "    <tr>\n",
              "      <th>4</th>\n",
              "      <td>1</td>\n",
              "      <td>Hunter</td>\n",
              "      <td>1</td>\n",
              "      <td>307</td>\n",
              "      <td>0</td>\n",
              "      <td>1</td>\n",
              "      <td>1</td>\n",
              "      <td>0</td>\n",
              "      <td>0</td>\n",
              "      <td>2</td>\n",
              "      <td>...</td>\n",
              "      <td>2</td>\n",
              "      <td>2</td>\n",
              "      <td>1</td>\n",
              "      <td>1</td>\n",
              "      <td>0</td>\n",
              "      <td>41326</td>\n",
              "      <td>0</td>\n",
              "      <td>850a43f90</td>\n",
              "      <td>3.0</td>\n",
              "      <td>2</td>\n",
              "    </tr>\n",
              "  </tbody>\n",
              "</table>\n",
              "<p>5 rows × 22 columns</p>\n",
              "</div>\n",
              "      <button class=\"colab-df-convert\" onclick=\"convertToInteractive('df-958fc168-0d06-4550-b2ee-f2504159a57e')\"\n",
              "              title=\"Convert this dataframe to an interactive table.\"\n",
              "              style=\"display:none;\">\n",
              "        \n",
              "  <svg xmlns=\"http://www.w3.org/2000/svg\" height=\"24px\"viewBox=\"0 0 24 24\"\n",
              "       width=\"24px\">\n",
              "    <path d=\"M0 0h24v24H0V0z\" fill=\"none\"/>\n",
              "    <path d=\"M18.56 5.44l.94 2.06.94-2.06 2.06-.94-2.06-.94-.94-2.06-.94 2.06-2.06.94zm-11 1L8.5 8.5l.94-2.06 2.06-.94-2.06-.94L8.5 2.5l-.94 2.06-2.06.94zm10 10l.94 2.06.94-2.06 2.06-.94-2.06-.94-.94-2.06-.94 2.06-2.06.94z\"/><path d=\"M17.41 7.96l-1.37-1.37c-.4-.4-.92-.59-1.43-.59-.52 0-1.04.2-1.43.59L10.3 9.45l-7.72 7.72c-.78.78-.78 2.05 0 2.83L4 21.41c.39.39.9.59 1.41.59.51 0 1.02-.2 1.41-.59l7.78-7.78 2.81-2.81c.8-.78.8-2.07 0-2.86zM5.41 20L4 18.59l7.72-7.72 1.47 1.35L5.41 20z\"/>\n",
              "  </svg>\n",
              "      </button>\n",
              "      \n",
              "  <style>\n",
              "    .colab-df-container {\n",
              "      display:flex;\n",
              "      flex-wrap:wrap;\n",
              "      gap: 12px;\n",
              "    }\n",
              "\n",
              "    .colab-df-convert {\n",
              "      background-color: #E8F0FE;\n",
              "      border: none;\n",
              "      border-radius: 50%;\n",
              "      cursor: pointer;\n",
              "      display: none;\n",
              "      fill: #1967D2;\n",
              "      height: 32px;\n",
              "      padding: 0 0 0 0;\n",
              "      width: 32px;\n",
              "    }\n",
              "\n",
              "    .colab-df-convert:hover {\n",
              "      background-color: #E2EBFA;\n",
              "      box-shadow: 0px 1px 2px rgba(60, 64, 67, 0.3), 0px 1px 3px 1px rgba(60, 64, 67, 0.15);\n",
              "      fill: #174EA6;\n",
              "    }\n",
              "\n",
              "    [theme=dark] .colab-df-convert {\n",
              "      background-color: #3B4455;\n",
              "      fill: #D2E3FC;\n",
              "    }\n",
              "\n",
              "    [theme=dark] .colab-df-convert:hover {\n",
              "      background-color: #434B5C;\n",
              "      box-shadow: 0px 1px 3px 1px rgba(0, 0, 0, 0.15);\n",
              "      filter: drop-shadow(0px 1px 2px rgba(0, 0, 0, 0.3));\n",
              "      fill: #FFFFFF;\n",
              "    }\n",
              "  </style>\n",
              "\n",
              "      <script>\n",
              "        const buttonEl =\n",
              "          document.querySelector('#df-958fc168-0d06-4550-b2ee-f2504159a57e button.colab-df-convert');\n",
              "        buttonEl.style.display =\n",
              "          google.colab.kernel.accessAllowed ? 'block' : 'none';\n",
              "\n",
              "        async function convertToInteractive(key) {\n",
              "          const element = document.querySelector('#df-958fc168-0d06-4550-b2ee-f2504159a57e');\n",
              "          const dataTable =\n",
              "            await google.colab.kernel.invokeFunction('convertToInteractive',\n",
              "                                                     [key], {});\n",
              "          if (!dataTable) return;\n",
              "\n",
              "          const docLinkHtml = 'Like what you see? Visit the ' +\n",
              "            '<a target=\"_blank\" href=https://colab.research.google.com/notebooks/data_table.ipynb>data table notebook</a>'\n",
              "            + ' to learn more about interactive tables.';\n",
              "          element.innerHTML = '';\n",
              "          dataTable['output_type'] = 'display_data';\n",
              "          await google.colab.output.renderOutput(dataTable, element);\n",
              "          const docLink = document.createElement('div');\n",
              "          docLink.innerHTML = docLinkHtml;\n",
              "          element.appendChild(docLink);\n",
              "        }\n",
              "      </script>\n",
              "    </div>\n",
              "  </div>\n",
              "  "
            ]
          },
          "metadata": {},
          "execution_count": 4
        }
      ]
    },
    {
      "cell_type": "markdown",
      "source": [
        "Agora checar se tem algum dado faltando, algum \"buraco\" na base de dados."
      ],
      "metadata": {
        "id": "g1TjxJ65Vg_O"
      }
    },
    {
      "cell_type": "code",
      "source": [
        "train.info()"
      ],
      "metadata": {
        "colab": {
          "base_uri": "https://localhost:8080/"
        },
        "id": "3so82G1xVmM5",
        "outputId": "1a1608b8-1403-44a7-dece-472e634744df"
      },
      "execution_count": null,
      "outputs": [
        {
          "output_type": "stream",
          "name": "stdout",
          "text": [
            "<class 'pandas.core.frame.DataFrame'>\n",
            "RangeIndex: 14993 entries, 0 to 14992\n",
            "Data columns (total 24 columns):\n",
            " #   Column         Non-Null Count  Dtype  \n",
            "---  ------         --------------  -----  \n",
            " 0   Type           14993 non-null  int64  \n",
            " 1   Name           13736 non-null  object \n",
            " 2   Age            14993 non-null  int64  \n",
            " 3   Breed1         14993 non-null  int64  \n",
            " 4   Breed2         14993 non-null  int64  \n",
            " 5   Gender         14993 non-null  int64  \n",
            " 6   Color1         14993 non-null  int64  \n",
            " 7   Color2         14993 non-null  int64  \n",
            " 8   Color3         14993 non-null  int64  \n",
            " 9   MaturitySize   14993 non-null  int64  \n",
            " 10  FurLength      14993 non-null  int64  \n",
            " 11  Vaccinated     14993 non-null  int64  \n",
            " 12  Dewormed       14993 non-null  int64  \n",
            " 13  Sterilized     14993 non-null  int64  \n",
            " 14  Health         14993 non-null  int64  \n",
            " 15  Quantity       14993 non-null  int64  \n",
            " 16  Fee            14993 non-null  int64  \n",
            " 17  State          14993 non-null  int64  \n",
            " 18  RescuerID      14993 non-null  object \n",
            " 19  VideoAmt       14993 non-null  int64  \n",
            " 20  Description    14981 non-null  object \n",
            " 21  PetID          14993 non-null  object \n",
            " 22  PhotoAmt       14993 non-null  float64\n",
            " 23  AdoptionSpeed  14993 non-null  int64  \n",
            "dtypes: float64(1), int64(19), object(4)\n",
            "memory usage: 2.7+ MB\n"
          ]
        }
      ]
    },
    {
      "cell_type": "markdown",
      "source": [
        "A coluna de descrição tem alguns dados faltando, precisamos lidar com isso já que essa é a coluna que vai servir para a análise de sentimentos"
      ],
      "metadata": {
        "id": "RZRP4e0kVsJz"
      }
    },
    {
      "cell_type": "markdown",
      "source": [
        "Porém, antes gostaria de checar a velocidade de adoção da base de dados que estamos utilizando\n",
        "\n",
        "0 - Animal foi adotado no mesmo dia que foi colocado para adoção.\n",
        "\n",
        "1 - Animal foi adotado entre 1 e 7 dias, na primeira semana em que foi colocado para adoção.\n",
        "\n",
        "2 - Animal foi adota entre 8 e 30 dias, no primeiro mês em que foi colocado para adoção.\n",
        "\n",
        "3 - Animal foi adota entre 31 e 90 dias, meses 2 e 3 desde que foi colocado para adoção.\n",
        "\n",
        "4 - Não foi adotado após 100 dias (nessa base não tem nenhum animal que está na espera entre 90 e 100 dias)."
      ],
      "metadata": {
        "id": "KwCY0doIV3qR"
      }
    },
    {
      "cell_type": "code",
      "source": [
        "sns.set(style=\"darkgrid\")\n",
        "ax = sns.countplot(x=\"AdoptionSpeed\", data=train)"
      ],
      "metadata": {
        "colab": {
          "base_uri": "https://localhost:8080/",
          "height": 285
        },
        "id": "vBoT2K7CVeRU",
        "outputId": "67cf7861-97ff-47ab-b8c2-24b2abf652e4"
      },
      "execution_count": null,
      "outputs": [
        {
          "output_type": "display_data",
          "data": {
            "text/plain": [
              "<Figure size 432x288 with 1 Axes>"
            ],
            "image/png": "[encoded data removed]"
          },
          "metadata": {}
        }
      ]
    },
    {
      "cell_type": "markdown",
      "source": [
        "Para analisar os sentimentos, utilizamos o VADER sentiment analysis package. A maioria das descrições é positiva ou neutra e as chances de ser adotado são maiores se a descrição for positiva."
      ],
      "metadata": {
        "id": "MyWP9iiLXHPA"
      }
    },
    {
      "cell_type": "markdown",
      "source": [
        "O que é **análise de sentimentos**?\n",
        "\n",
        "Análise de sentimentos é quando de forma computacional existe a tentativa de identificar e categorizar opiniões expressas em um texto, especialmente para determinar se o autor do texto estava sendo positivo, negativo ou neutro."
      ],
      "metadata": {
        "id": "swPVwElMX58h"
      }
    },
    {
      "cell_type": "code",
      "source": [
        "train['Description'].fillna('none',inplace=True)"
      ],
      "metadata": {
        "id": "zu6WdVrzYbHN"
      },
      "execution_count": null,
      "outputs": []
    },
    {
      "cell_type": "markdown",
      "source": [
        "Ver um exemplo de como foi feita a descrição"
      ],
      "metadata": {
        "id": "y38_OlGwYiof"
      }
    },
    {
      "cell_type": "code",
      "source": [
        "train['Description'][0]"
      ],
      "metadata": {
        "colab": {
          "base_uri": "https://localhost:8080/",
          "height": 53
        },
        "id": "9VFrhRjpWsAJ",
        "outputId": "9a165954-9cbb-4c4f-851a-7c491bb2e7a0"
      },
      "execution_count": null,
      "outputs": [
        {
          "output_type": "execute_result",
          "data": {
            "text/plain": [
              "\"Nibble is a 3+ month old ball of cuteness. He is energetic and playful. I rescued a couple of cats a few months ago but could not get them neutered in time as the clinic was fully scheduled. The result was this little kitty. I do not have enough space and funds to care for more cats in my household. Looking for responsible people to take over Nibble's care.\""
            ],
            "application/vnd.google.colaboratory.intrinsic+json": {
              "type": "string"
            }
          },
          "metadata": {},
          "execution_count": 8
        }
      ]
    },
    {
      "cell_type": "code",
      "source": [
        "from vaderSentiment.vaderSentiment import SentimentIntensityAnalyzer\n",
        "analyser = SentimentIntensityAnalyzer()"
      ],
      "metadata": {
        "id": "vvsVD7P2Yrvx"
      },
      "execution_count": null,
      "outputs": []
    },
    {
      "cell_type": "code",
      "source": [
        "def sentiment_analyzer_scores(sentence):\n",
        "    score = analyser.polarity_scores(sentence)\n",
        "    return score\n",
        "i=0\n",
        "petanalysis=[]\n",
        "while i<train.shape[0]:\n",
        "    dict1=sentiment_analyzer_scores(train['Description'][i])\n",
        "    dict1.update({'PetID':train['PetID'][i]})\n",
        "    petanalysis.append(dict1)\n",
        "    i=i+1"
      ],
      "metadata": {
        "id": "00LeU1xag3uZ"
      },
      "execution_count": null,
      "outputs": []
    },
    {
      "cell_type": "code",
      "source": [
        "df=pd.DataFrame(petanalysis)"
      ],
      "metadata": {
        "id": "awbUBJd5hBA6"
      },
      "execution_count": null,
      "outputs": []
    },
    {
      "cell_type": "code",
      "source": [
        "train_2=train.merge(df,on='PetID',how='inner')"
      ],
      "metadata": {
        "id": "u14SP0MThbby"
      },
      "execution_count": null,
      "outputs": []
    },
    {
      "cell_type": "code",
      "source": [
        "train_2.loc[:,['compound','neg','pos','neu','Description']].head()"
      ],
      "metadata": {
        "colab": {
          "base_uri": "https://localhost:8080/",
          "height": 206
        },
        "id": "cA7OQ11bhd8Q",
        "outputId": "ca5e9968-de70-4614-ffc1-5be6b4e8e107"
      },
      "execution_count": null,
      "outputs": [
        {
          "output_type": "execute_result",
          "data": {
            "text/plain": [
              "   compound    neg    pos    neu  \\\n",
              "0    0.9552  0.000  0.239  0.761   \n",
              "1    0.1280  0.138  0.119  0.743   \n",
              "2    0.7650  0.094  0.197  0.709   \n",
              "3    0.9538  0.000  0.517  0.483   \n",
              "4    0.9880  0.000  0.348  0.652   \n",
              "\n",
              "                                         Description  \n",
              "0  Nibble is a 3+ month old ball of cuteness. He ...  \n",
              "1  I just found it alone yesterday near my apartm...  \n",
              "2  Their pregnant mother was dumped by her irresp...  \n",
              "3  Good guard dog, very alert, active, obedience ...  \n",
              "4  This handsome yet cute boy is up for adoption....  "
            ],
            "text/html": [
              "\n",
              "  <div id=\"df-4697efa0-e159-4d1a-ba42-781b72358cb5\">\n",
              "    <div class=\"colab-df-container\">\n",
              "      <div>\n",
              "<style scoped>\n",
              "    .dataframe tbody tr th:only-of-type {\n",
              "        vertical-align: middle;\n",
              "    }\n",
              "\n",
              "    .dataframe tbody tr th {\n",
              "        vertical-align: top;\n",
              "    }\n",
              "\n",
              "    .dataframe thead th {\n",
              "        text-align: right;\n",
              "    }\n",
              "</style>\n",
              "<table border=\"1\" class=\"dataframe\">\n",
              "  <thead>\n",
              "    <tr style=\"text-align: right;\">\n",
              "      <th></th>\n",
              "      <th>compound</th>\n",
              "      <th>neg</th>\n",
              "      <th>pos</th>\n",
              "      <th>neu</th>\n",
              "      <th>Description</th>\n",
              "    </tr>\n",
              "  </thead>\n",
              "  <tbody>\n",
              "    <tr>\n",
              "      <th>0</th>\n",
              "      <td>0.9552</td>\n",
              "      <td>0.000</td>\n",
              "      <td>0.239</td>\n",
              "      <td>0.761</td>\n",
              "      <td>Nibble is a 3+ month old ball of cuteness. He ...</td>\n",
              "    </tr>\n",
              "    <tr>\n",
              "      <th>1</th>\n",
              "      <td>0.1280</td>\n",
              "      <td>0.138</td>\n",
              "      <td>0.119</td>\n",
              "      <td>0.743</td>\n",
              "      <td>I just found it alone yesterday near my apartm...</td>\n",
              "    </tr>\n",
              "    <tr>\n",
              "      <th>2</th>\n",
              "      <td>0.7650</td>\n",
              "      <td>0.094</td>\n",
              "      <td>0.197</td>\n",
              "      <td>0.709</td>\n",
              "      <td>Their pregnant mother was dumped by her irresp...</td>\n",
              "    </tr>\n",
              "    <tr>\n",
              "      <th>3</th>\n",
              "      <td>0.9538</td>\n",
              "      <td>0.000</td>\n",
              "      <td>0.517</td>\n",
              "      <td>0.483</td>\n",
              "      <td>Good guard dog, very alert, active, obedience ...</td>\n",
              "    </tr>\n",
              "    <tr>\n",
              "      <th>4</th>\n",
              "      <td>0.9880</td>\n",
              "      <td>0.000</td>\n",
              "      <td>0.348</td>\n",
              "      <td>0.652</td>\n",
              "      <td>This handsome yet cute boy is up for adoption....</td>\n",
              "    </tr>\n",
              "  </tbody>\n",
              "</table>\n",
              "</div>\n",
              "      <button class=\"colab-df-convert\" onclick=\"convertToInteractive('df-4697efa0-e159-4d1a-ba42-781b72358cb5')\"\n",
              "              title=\"Convert this dataframe to an interactive table.\"\n",
              "              style=\"display:none;\">\n",
              "        \n",
              "  <svg xmlns=\"http://www.w3.org/2000/svg\" height=\"24px\"viewBox=\"0 0 24 24\"\n",
              "       width=\"24px\">\n",
              "    <path d=\"M0 0h24v24H0V0z\" fill=\"none\"/>\n",
              "    <path d=\"M18.56 5.44l.94 2.06.94-2.06 2.06-.94-2.06-.94-.94-2.06-.94 2.06-2.06.94zm-11 1L8.5 8.5l.94-2.06 2.06-.94-2.06-.94L8.5 2.5l-.94 2.06-2.06.94zm10 10l.94 2.06.94-2.06 2.06-.94-2.06-.94-.94-2.06-.94 2.06-2.06.94z\"/><path d=\"M17.41 7.96l-1.37-1.37c-.4-.4-.92-.59-1.43-.59-.52 0-1.04.2-1.43.59L10.3 9.45l-7.72 7.72c-.78.78-.78 2.05 0 2.83L4 21.41c.39.39.9.59 1.41.59.51 0 1.02-.2 1.41-.59l7.78-7.78 2.81-2.81c.8-.78.8-2.07 0-2.86zM5.41 20L4 18.59l7.72-7.72 1.47 1.35L5.41 20z\"/>\n",
              "  </svg>\n",
              "      </button>\n",
              "      \n",
              "  <style>\n",
              "    .colab-df-container {\n",
              "      display:flex;\n",
              "      flex-wrap:wrap;\n",
              "      gap: 12px;\n",
              "    }\n",
              "\n",
              "    .colab-df-convert {\n",
              "      background-color: #E8F0FE;\n",
              "      border: none;\n",
              "      border-radius: 50%;\n",
              "      cursor: pointer;\n",
              "      display: none;\n",
              "      fill: #1967D2;\n",
              "      height: 32px;\n",
              "      padding: 0 0 0 0;\n",
              "      width: 32px;\n",
              "    }\n",
              "\n",
              "    .colab-df-convert:hover {\n",
              "      background-color: #E2EBFA;\n",
              "      box-shadow: 0px 1px 2px rgba(60, 64, 67, 0.3), 0px 1px 3px 1px rgba(60, 64, 67, 0.15);\n",
              "      fill: #174EA6;\n",
              "    }\n",
              "\n",
              "    [theme=dark] .colab-df-convert {\n",
              "      background-color: #3B4455;\n",
              "      fill: #D2E3FC;\n",
              "    }\n",
              "\n",
              "    [theme=dark] .colab-df-convert:hover {\n",
              "      background-color: #434B5C;\n",
              "      box-shadow: 0px 1px 3px 1px rgba(0, 0, 0, 0.15);\n",
              "      filter: drop-shadow(0px 1px 2px rgba(0, 0, 0, 0.3));\n",
              "      fill: #FFFFFF;\n",
              "    }\n",
              "  </style>\n",
              "\n",
              "      <script>\n",
              "        const buttonEl =\n",
              "          document.querySelector('#df-4697efa0-e159-4d1a-ba42-781b72358cb5 button.colab-df-convert');\n",
              "        buttonEl.style.display =\n",
              "          google.colab.kernel.accessAllowed ? 'block' : 'none';\n",
              "\n",
              "        async function convertToInteractive(key) {\n",
              "          const element = document.querySelector('#df-4697efa0-e159-4d1a-ba42-781b72358cb5');\n",
              "          const dataTable =\n",
              "            await google.colab.kernel.invokeFunction('convertToInteractive',\n",
              "                                                     [key], {});\n",
              "          if (!dataTable) return;\n",
              "\n",
              "          const docLinkHtml = 'Like what you see? Visit the ' +\n",
              "            '<a target=\"_blank\" href=https://colab.research.google.com/notebooks/data_table.ipynb>data table notebook</a>'\n",
              "            + ' to learn more about interactive tables.';\n",
              "          element.innerHTML = '';\n",
              "          dataTable['output_type'] = 'display_data';\n",
              "          await google.colab.output.renderOutput(dataTable, element);\n",
              "          const docLink = document.createElement('div');\n",
              "          docLink.innerHTML = docLinkHtml;\n",
              "          element.appendChild(docLink);\n",
              "        }\n",
              "      </script>\n",
              "    </div>\n",
              "  </div>\n",
              "  "
            ]
          },
          "metadata": {},
          "execution_count": 13
        }
      ]
    },
    {
      "cell_type": "code",
      "source": [
        "train_2['compound'].describe()\n"
      ],
      "metadata": {
        "colab": {
          "base_uri": "https://localhost:8080/"
        },
        "id": "pZd3vqfuhgna",
        "outputId": "70f7e575-6f4d-4263-cf38-78b9fe1624ad"
      },
      "execution_count": null,
      "outputs": [
        {
          "output_type": "execute_result",
          "data": {
            "text/plain": [
              "count    14993.000000\n",
              "mean         0.701029\n",
              "std          0.376840\n",
              "min         -0.981600\n",
              "25%          0.588800\n",
              "50%          0.875000\n",
              "75%          0.957800\n",
              "max          0.999700\n",
              "Name: compound, dtype: float64"
            ]
          },
          "metadata": {},
          "execution_count": 14
        }
      ]
    },
    {
      "cell_type": "markdown",
      "source": [
        "Vamos dar uma olhada na descrição mais negativa."
      ],
      "metadata": {
        "id": "w-DvVT2ihquF"
      }
    },
    {
      "cell_type": "code",
      "source": [
        "train_2.loc[train_2['compound']==-.981600,['Description']].values"
      ],
      "metadata": {
        "colab": {
          "base_uri": "https://localhost:8080/"
        },
        "id": "7KruhvbxhuOf",
        "outputId": "42579d43-ad01-42cf-bfee-a5ebfbb01eab"
      },
      "execution_count": null,
      "outputs": [
        {
          "output_type": "execute_result",
          "data": {
            "text/plain": [
              "array([['Meet Baby Rosemary, one of the puppies that we intend to rescue out from the area where they hv been seeking shelter since born - longkang near the surau. We recently found out that the timid mummy that we have been feeding actually gave birth to 7 puppies, but roughly 2 weeks ago, one heartless human being took one stick & jolok the hole near longkang where the puppies have been seeking refuge. And with that 3 was killed. Such a sad thing isnt that such hatred still exist? Why have to kill these innocent puppies? Moving on, we hope to get the 2 remaining puppies soon. They are kinda protective & barks loudly when touch. Who doesnt if they are subject to constant harassment & abuse like the dead siblings, rite?']],\n",
              "      dtype=object)"
            ]
          },
          "metadata": {},
          "execution_count": 15
        }
      ]
    },
    {
      "cell_type": "markdown",
      "source": [
        "E a velocidade de adoção desse animal."
      ],
      "metadata": {
        "id": "vEGRoU-UinyX"
      }
    },
    {
      "cell_type": "code",
      "source": [
        "train_2.loc[train_2['compound']==-.981600,['AdoptionSpeed']].values"
      ],
      "metadata": {
        "colab": {
          "base_uri": "https://localhost:8080/"
        },
        "id": "hXqjqHeGiGlH",
        "outputId": "0226aeea-8884-4599-a333-83ea6e351ad5"
      },
      "execution_count": null,
      "outputs": [
        {
          "output_type": "execute_result",
          "data": {
            "text/plain": [
              "array([[2]])"
            ]
          },
          "metadata": {},
          "execution_count": 16
        }
      ]
    },
    {
      "cell_type": "markdown",
      "source": [
        "Se pararmos para ler com calma, podemos ver que no texto tem várias palavras negativas, não necessariamente relacionadas ao animal mas que acabam por alterar o resultado."
      ],
      "metadata": {
        "id": "K0Gfefh1iNd8"
      }
    },
    {
      "cell_type": "markdown",
      "source": [
        "Vamos olhar para descrições com nota positiva."
      ],
      "metadata": {
        "id": "wfgobliviYtX"
      }
    },
    {
      "cell_type": "code",
      "source": [
        "train_2.loc[train_2['compound']>=.957800,['Description']].values"
      ],
      "metadata": {
        "colab": {
          "base_uri": "https://localhost:8080/"
        },
        "id": "Zg913sZviXeQ",
        "outputId": "46255664-abe7-48ba-ecfa-c59a40ab2733"
      },
      "execution_count": null,
      "outputs": [
        {
          "output_type": "execute_result",
          "data": {
            "text/plain": [
              "array([[\"This handsome yet cute boy is up for adoption. He is the most playful pal we've seen in our puppies. He loves to nibble on shoelaces , Chase you at such a young age. Imagine what a cute brat he will be when he grows. We are looking for a loving home for Hunter , one that will take care of him and give him the love that he needs. Please call urgently if you would like to adopt this cutie.\"],\n",
              "       ['Peanut was an abused puppy until he was rescued. He was very scared of people but now he is a very happy and active puppy! He is a really loving puppy now. (: Lester Jenny Will you adopt him? ================================================== Adopters are required to vaccinate and neuter them. =================================================='],\n",
              "       [\"Hi Pet Lovers! This is my first posting and I need help! 3 months ago we befriended a mother stray cat with 3 kittens in our area and we 'adopted' them but they come and go as they please. 2 months ago the mother gave birth to a litter of 7 cute kittens and we have been taking care of the mother and the kittens ever since in our home...in the ground floor bathroom! Some of the kittens look half-persian with long hair,evident also from the earlier stray batch we adopted. Looking for good caring homes...\"],\n",
              "       ...,\n",
              "       ['One stray dog came to my house and gave birth to six little puppies. It would be very pity to roam around without proper care. I hope they can be adopted and be taken good care of. Anyone interested kindly PM me yeah :) Kindly help to share this post. *Four out of six puppies have been successfully adopted. We only left these two puppies. *For SERIOUS adopter only. Thank you.'],\n",
              "       [\"I found her by the side of the road and too her in but now I have to leave the country for work and can't take her with me. She is very loving, playful, kind, energetic. I hope I can find a get a good home to care for her before I leave.\"],\n",
              "       [\"Homeless souls awaiting for a good home..We do not need adoption fee but only require a pack of cat food after adoption, regardless of size, brand or price. This helps us to feed the strays and so we're able to help more homeless animals. *** It's a MUST for adopter to bring adopted pet for vaccinations and NEUTER/SPAYING surgery because we don't want them to give birth to more homeless souls to this world again like their mother. TQ***\\xa0 Lately we met with this mother cat named Mami with a very big tummy,obviously she was at late stage of pregnancy. We offered her foods and she gave birth last month at a gym's staircase, we only managed to find her babies after some times. 3babies are very adorable and had flu last week but after oral medications is now recovered. Owner of gym told us that they're forced to release them to street when they grow older. All babies are afraid of strangers but after some times they will be friendly with you. We really really hope to get them a home ASAP before the owner release them out to street..they definitely deserve a good home :( Interested to adopt? We wish adopter would agree to do so.. - Always keep cat indoor all the time - Spay them when they're about 6months old - Agree to bring adopted pet for yearly vaccination - Provide balanced meals and fresh water all the time - Allow for home visit - Love and treat adopted pet like your own precious family members Please give a home to them ♥\"]],\n",
              "      dtype=object)"
            ]
          },
          "metadata": {},
          "execution_count": 17
        }
      ]
    },
    {
      "cell_type": "markdown",
      "source": [
        "Agora a velocidade de adoção dos positivos."
      ],
      "metadata": {
        "id": "RoXXZQvSir0z"
      }
    },
    {
      "cell_type": "code",
      "source": [
        "train_2.loc[train_2['compound']>.955700,['AdoptionSpeed']].values"
      ],
      "metadata": {
        "colab": {
          "base_uri": "https://localhost:8080/"
        },
        "id": "y0nEkZgAi1Mm",
        "outputId": "c0248cab-0f73-405d-c400-1cf56e98e887"
      },
      "execution_count": null,
      "outputs": [
        {
          "output_type": "execute_result",
          "data": {
            "text/plain": [
              "array([[2],\n",
              "       [1],\n",
              "       [2],\n",
              "       ...,\n",
              "       [3],\n",
              "       [4],\n",
              "       [3]])"
            ]
          },
          "metadata": {},
          "execution_count": 18
        }
      ]
    },
    {
      "cell_type": "code",
      "source": [
        "plt.figure(figsize=(20,10))\n",
        "speed = [0,1,2,3,4]\n",
        "\n",
        "for i in speed:\n",
        "\n",
        "    subset = train_2[(train_2['AdoptionSpeed'] == i)]\n",
        "    \n",
        "\n",
        "    sns.distplot(subset['compound'], hist = False, kde = True,\n",
        "                 kde_kws = {'linewidth': 3},\n",
        "                 label = i)\n",
        "    \n",
        "\n",
        "plt.legend(prop={'size': 16}, title = 'Adoption Speeds')\n",
        "plt.title('Density Plot with Multiple Adoption Speeds')\n",
        "plt.xlabel('Compound score')\n",
        "plt.ylabel('Density')"
      ],
      "metadata": {
        "colab": {
          "base_uri": "https://localhost:8080/",
          "height": 644
        },
        "id": "wNzTw8shi4a2",
        "outputId": "aa13c8cc-6881-4785-c7b1-2e3d4c34ec4b"
      },
      "execution_count": null,
      "outputs": [
        {
          "output_type": "execute_result",
          "data": {
            "text/plain": [
              "Text(0, 0.5, 'Density')"
            ]
          },
          "metadata": {},
          "execution_count": 19
        },
        {
          "output_type": "display_data",
          "data": {
            "text/plain": [
              "<Figure size 1440x720 with 1 Axes>"
            ],
            "image/png": "[encoded data removed]"
          },
          "metadata": {}
        }
      ]
    },
    {
      "cell_type": "markdown",
      "source": [
        "Podemos esperar que a maioria do conteúdo escrito na coluna de descrições seja positivo. No gráfico conseguimos ver dois picos, um próximo do 0 (neutro) e outro próximo do 1 (positivo). Com isso, podemos dizer que são adotados mais animais com descrições positivas."
      ],
      "metadata": {
        "id": "kU8RPYZ7jBpu"
      }
    },
    {
      "cell_type": "markdown",
      "source": [
        "Agora que já foi feita a análise de sentimentos, alguns passos finais serão executados para tentarmos analisar como a coluna \"Compound\" pode influenciar na previsão da adoptabilidade.\n",
        "\n",
        "Primeiro, vamos pré processar os dados. Limpar a base, tirando dados que não são válidos para a análise e depois normalizando os dados para a previsão."
      ],
      "metadata": {
        "id": "LaTIBOnFA4T2"
      }
    },
    {
      "cell_type": "code",
      "source": [
        "train_3 = train_2.drop(['neg','neu', 'pos'],axis=1)"
      ],
      "metadata": {
        "id": "YP5JWlufj7_u"
      },
      "execution_count": null,
      "outputs": []
    },
    {
      "cell_type": "markdown",
      "source": [
        "Dataset criado para utilização da avaliação da análise de sentimento para predição de adoptabilidade.\n",
        "\n",
        "**Assim ficou a base no final**"
      ],
      "metadata": {
        "id": "lB-1uqz8YegR"
      }
    },
    {
      "cell_type": "code",
      "source": [
        "train_3.head()"
      ],
      "metadata": {
        "colab": {
          "base_uri": "https://localhost:8080/",
          "height": 629
        },
        "id": "NB_8y3LgYlRZ",
        "outputId": "b40b72f3-e435-4c7f-d675-523f186d0446"
      },
      "execution_count": null,
      "outputs": [
        {
          "output_type": "execute_result",
          "data": {
            "text/plain": [
              "   Type         Name  Age  Breed1  Breed2  Gender  Color1  Color2  Color3  \\\n",
              "0     2       Nibble    3     299       0       1       1       7       0   \n",
              "1     2  No Name Yet    1     265       0       1       1       2       0   \n",
              "2     1       Brisco    1     307       0       1       2       7       0   \n",
              "3     1         Miko    4     307       0       2       1       2       0   \n",
              "4     1       Hunter    1     307       0       1       1       0       0   \n",
              "\n",
              "   MaturitySize  ...  Quantity  Fee  State                         RescuerID  \\\n",
              "0             1  ...         1  100  41326  8480853f516546f6cf33aa88cd76c379   \n",
              "1             2  ...         1    0  41401  3082c7125d8fb66f7dd4bff4192c8b14   \n",
              "2             2  ...         1    0  41326  fa90fa5b1ee11c86938398b60abc32cb   \n",
              "3             2  ...         1  150  41401  9238e4f44c71a75282e62f7136c6b240   \n",
              "4             2  ...         1    0  41326  95481e953f8aed9ec3d16fc4509537e8   \n",
              "\n",
              "   VideoAmt                                        Description      PetID  \\\n",
              "0         0  Nibble is a 3+ month old ball of cuteness. He ...  86e1089a3   \n",
              "1         0  I just found it alone yesterday near my apartm...  6296e909a   \n",
              "2         0  Their pregnant mother was dumped by her irresp...  3422e4906   \n",
              "3         0  Good guard dog, very alert, active, obedience ...  5842f1ff5   \n",
              "4         0  This handsome yet cute boy is up for adoption....  850a43f90   \n",
              "\n",
              "   PhotoAmt AdoptionSpeed  compound  \n",
              "0       1.0             2    0.9552  \n",
              "1       2.0             0    0.1280  \n",
              "2       7.0             3    0.7650  \n",
              "3       8.0             2    0.9538  \n",
              "4       3.0             2    0.9880  \n",
              "\n",
              "[5 rows x 25 columns]"
            ],
            "text/html": [
              "\n",
              "  <div id=\"df-ba4db50c-2d8a-40e4-8b9d-6cc8e8190bce\">\n",
              "    <div class=\"colab-df-container\">\n",
              "      <div>\n",
              "<style scoped>\n",
              "    .dataframe tbody tr th:only-of-type {\n",
              "        vertical-align: middle;\n",
              "    }\n",
              "\n",
              "    .dataframe tbody tr th {\n",
              "        vertical-align: top;\n",
              "    }\n",
              "\n",
              "    .dataframe thead th {\n",
              "        text-align: right;\n",
              "    }\n",
              "</style>\n",
              "<table border=\"1\" class=\"dataframe\">\n",
              "  <thead>\n",
              "    <tr style=\"text-align: right;\">\n",
              "      <th></th>\n",
              "      <th>Type</th>\n",
              "      <th>Name</th>\n",
              "      <th>Age</th>\n",
              "      <th>Breed1</th>\n",
              "      <th>Breed2</th>\n",
              "      <th>Gender</th>\n",
              "      <th>Color1</th>\n",
              "      <th>Color2</th>\n",
              "      <th>Color3</th>\n",
              "      <th>MaturitySize</th>\n",
              "      <th>...</th>\n",
              "      <th>Quantity</th>\n",
              "      <th>Fee</th>\n",
              "      <th>State</th>\n",
              "      <th>RescuerID</th>\n",
              "      <th>VideoAmt</th>\n",
              "      <th>Description</th>\n",
              "      <th>PetID</th>\n",
              "      <th>PhotoAmt</th>\n",
              "      <th>AdoptionSpeed</th>\n",
              "      <th>compound</th>\n",
              "    </tr>\n",
              "  </thead>\n",
              "  <tbody>\n",
              "    <tr>\n",
              "      <th>0</th>\n",
              "      <td>2</td>\n",
              "      <td>Nibble</td>\n",
              "      <td>3</td>\n",
              "      <td>299</td>\n",
              "      <td>0</td>\n",
              "      <td>1</td>\n",
              "      <td>1</td>\n",
              "      <td>7</td>\n",
              "      <td>0</td>\n",
              "      <td>1</td>\n",
              "      <td>...</td>\n",
              "      <td>1</td>\n",
              "      <td>100</td>\n",
              "      <td>41326</td>\n",
              "      <td>8480853f516546f6cf33aa88cd76c379</td>\n",
              "      <td>0</td>\n",
              "      <td>Nibble is a 3+ month old ball of cuteness. He ...</td>\n",
              "      <td>86e1089a3</td>\n",
              "      <td>1.0</td>\n",
              "      <td>2</td>\n",
              "      <td>0.9552</td>\n",
              "    </tr>\n",
              "    <tr>\n",
              "      <th>1</th>\n",
              "      <td>2</td>\n",
              "      <td>No Name Yet</td>\n",
              "      <td>1</td>\n",
              "      <td>265</td>\n",
              "      <td>0</td>\n",
              "      <td>1</td>\n",
              "      <td>1</td>\n",
              "      <td>2</td>\n",
              "      <td>0</td>\n",
              "      <td>2</td>\n",
              "      <td>...</td>\n",
              "      <td>1</td>\n",
              "      <td>0</td>\n",
              "      <td>41401</td>\n",
              "      <td>3082c7125d8fb66f7dd4bff4192c8b14</td>\n",
              "      <td>0</td>\n",
              "      <td>I just found it alone yesterday near my apartm...</td>\n",
              "      <td>6296e909a</td>\n",
              "      <td>2.0</td>\n",
              "      <td>0</td>\n",
              "      <td>0.1280</td>\n",
              "    </tr>\n",
              "    <tr>\n",
              "      <th>2</th>\n",
              "      <td>1</td>\n",
              "      <td>Brisco</td>\n",
              "      <td>1</td>\n",
              "      <td>307</td>\n",
              "      <td>0</td>\n",
              "      <td>1</td>\n",
              "      <td>2</td>\n",
              "      <td>7</td>\n",
              "      <td>0</td>\n",
              "      <td>2</td>\n",
              "      <td>...</td>\n",
              "      <td>1</td>\n",
              "      <td>0</td>\n",
              "      <td>41326</td>\n",
              "      <td>fa90fa5b1ee11c86938398b60abc32cb</td>\n",
              "      <td>0</td>\n",
              "      <td>Their pregnant mother was dumped by her irresp...</td>\n",
              "      <td>3422e4906</td>\n",
              "      <td>7.0</td>\n",
              "      <td>3</td>\n",
              "      <td>0.7650</td>\n",
              "    </tr>\n",
              "    <tr>\n",
              "      <th>3</th>\n",
              "      <td>1</td>\n",
              "      <td>Miko</td>\n",
              "      <td>4</td>\n",
              "      <td>307</td>\n",
              "      <td>0</td>\n",
              "      <td>2</td>\n",
              "      <td>1</td>\n",
              "      <td>2</td>\n",
              "      <td>0</td>\n",
              "      <td>2</td>\n",
              "      <td>...</td>\n",
              "      <td>1</td>\n",
              "      <td>150</td>\n",
              "      <td>41401</td>\n",
              "      <td>9238e4f44c71a75282e62f7136c6b240</td>\n",
              "      <td>0</td>\n",
              "      <td>Good guard dog, very alert, active, obedience ...</td>\n",
              "      <td>5842f1ff5</td>\n",
              "      <td>8.0</td>\n",
              "      <td>2</td>\n",
              "      <td>0.9538</td>\n",
              "    </tr>\n",
              "    <tr>\n",
              "      <th>4</th>\n",
              "      <td>1</td>\n",
              "      <td>Hunter</td>\n",
              "      <td>1</td>\n",
              "      <td>307</td>\n",
              "      <td>0</td>\n",
              "      <td>1</td>\n",
              "      <td>1</td>\n",
              "      <td>0</td>\n",
              "      <td>0</td>\n",
              "      <td>2</td>\n",
              "      <td>...</td>\n",
              "      <td>1</td>\n",
              "      <td>0</td>\n",
              "      <td>41326</td>\n",
              "      <td>95481e953f8aed9ec3d16fc4509537e8</td>\n",
              "      <td>0</td>\n",
              "      <td>This handsome yet cute boy is up for adoption....</td>\n",
              "      <td>850a43f90</td>\n",
              "      <td>3.0</td>\n",
              "      <td>2</td>\n",
              "      <td>0.9880</td>\n",
              "    </tr>\n",
              "  </tbody>\n",
              "</table>\n",
              "<p>5 rows × 25 columns</p>\n",
              "</div>\n",
              "      <button class=\"colab-df-convert\" onclick=\"convertToInteractive('df-ba4db50c-2d8a-40e4-8b9d-6cc8e8190bce')\"\n",
              "              title=\"Convert this dataframe to an interactive table.\"\n",
              "              style=\"display:none;\">\n",
              "        \n",
              "  <svg xmlns=\"http://www.w3.org/2000/svg\" height=\"24px\"viewBox=\"0 0 24 24\"\n",
              "       width=\"24px\">\n",
              "    <path d=\"M0 0h24v24H0V0z\" fill=\"none\"/>\n",
              "    <path d=\"M18.56 5.44l.94 2.06.94-2.06 2.06-.94-2.06-.94-.94-2.06-.94 2.06-2.06.94zm-11 1L8.5 8.5l.94-2.06 2.06-.94-2.06-.94L8.5 2.5l-.94 2.06-2.06.94zm10 10l.94 2.06.94-2.06 2.06-.94-2.06-.94-.94-2.06-.94 2.06-2.06.94z\"/><path d=\"M17.41 7.96l-1.37-1.37c-.4-.4-.92-.59-1.43-.59-.52 0-1.04.2-1.43.59L10.3 9.45l-7.72 7.72c-.78.78-.78 2.05 0 2.83L4 21.41c.39.39.9.59 1.41.59.51 0 1.02-.2 1.41-.59l7.78-7.78 2.81-2.81c.8-.78.8-2.07 0-2.86zM5.41 20L4 18.59l7.72-7.72 1.47 1.35L5.41 20z\"/>\n",
              "  </svg>\n",
              "      </button>\n",
              "      \n",
              "  <style>\n",
              "    .colab-df-container {\n",
              "      display:flex;\n",
              "      flex-wrap:wrap;\n",
              "      gap: 12px;\n",
              "    }\n",
              "\n",
              "    .colab-df-convert {\n",
              "      background-color: #E8F0FE;\n",
              "      border: none;\n",
              "      border-radius: 50%;\n",
              "      cursor: pointer;\n",
              "      display: none;\n",
              "      fill: #1967D2;\n",
              "      height: 32px;\n",
              "      padding: 0 0 0 0;\n",
              "      width: 32px;\n",
              "    }\n",
              "\n",
              "    .colab-df-convert:hover {\n",
              "      background-color: #E2EBFA;\n",
              "      box-shadow: 0px 1px 2px rgba(60, 64, 67, 0.3), 0px 1px 3px 1px rgba(60, 64, 67, 0.15);\n",
              "      fill: #174EA6;\n",
              "    }\n",
              "\n",
              "    [theme=dark] .colab-df-convert {\n",
              "      background-color: #3B4455;\n",
              "      fill: #D2E3FC;\n",
              "    }\n",
              "\n",
              "    [theme=dark] .colab-df-convert:hover {\n",
              "      background-color: #434B5C;\n",
              "      box-shadow: 0px 1px 3px 1px rgba(0, 0, 0, 0.15);\n",
              "      filter: drop-shadow(0px 1px 2px rgba(0, 0, 0, 0.3));\n",
              "      fill: #FFFFFF;\n",
              "    }\n",
              "  </style>\n",
              "\n",
              "      <script>\n",
              "        const buttonEl =\n",
              "          document.querySelector('#df-ba4db50c-2d8a-40e4-8b9d-6cc8e8190bce button.colab-df-convert');\n",
              "        buttonEl.style.display =\n",
              "          google.colab.kernel.accessAllowed ? 'block' : 'none';\n",
              "\n",
              "        async function convertToInteractive(key) {\n",
              "          const element = document.querySelector('#df-ba4db50c-2d8a-40e4-8b9d-6cc8e8190bce');\n",
              "          const dataTable =\n",
              "            await google.colab.kernel.invokeFunction('convertToInteractive',\n",
              "                                                     [key], {});\n",
              "          if (!dataTable) return;\n",
              "\n",
              "          const docLinkHtml = 'Like what you see? Visit the ' +\n",
              "            '<a target=\"_blank\" href=https://colab.research.google.com/notebooks/data_table.ipynb>data table notebook</a>'\n",
              "            + ' to learn more about interactive tables.';\n",
              "          element.innerHTML = '';\n",
              "          dataTable['output_type'] = 'display_data';\n",
              "          await google.colab.output.renderOutput(dataTable, element);\n",
              "          const docLink = document.createElement('div');\n",
              "          docLink.innerHTML = docLinkHtml;\n",
              "          element.appendChild(docLink);\n",
              "        }\n",
              "      </script>\n",
              "    </div>\n",
              "  </div>\n",
              "  "
            ]
          },
          "metadata": {},
          "execution_count": 21
        }
      ]
    },
    {
      "cell_type": "code",
      "source": [
        "train_3 = train_3.drop(['Name', 'RescuerID', 'VideoAmt', 'PhotoAmt', 'PetID', 'Description'], axis=1)"
      ],
      "metadata": {
        "id": "mA64sjbliebg"
      },
      "execution_count": null,
      "outputs": []
    },
    {
      "cell_type": "markdown",
      "source": [
        "Retirando colunas que não são relevantes para a previsão."
      ],
      "metadata": {
        "id": "e2mpmIupBlM2"
      }
    },
    {
      "cell_type": "markdown",
      "source": [
        "A função get_dummies() é utilizada para converter variáveis categóricas para variáveis dummy ou indicativas."
      ],
      "metadata": {
        "id": "ZIub9dOMCWZN"
      }
    },
    {
      "cell_type": "code",
      "source": [
        "train_3 = pd.get_dummies(train_3, drop_first=True)"
      ],
      "metadata": {
        "id": "cdAVm33vjgw_"
      },
      "execution_count": null,
      "outputs": []
    },
    {
      "cell_type": "code",
      "source": [
        "train_4 = train_3['AdoptionSpeed']"
      ],
      "metadata": {
        "id": "romkNzj_kAdw"
      },
      "execution_count": null,
      "outputs": []
    },
    {
      "cell_type": "code",
      "source": [
        "X = train_3.drop(['AdoptionSpeed'], axis=1)\n",
        "y = train_4"
      ],
      "metadata": {
        "id": "FjFO2fWPkEOq"
      },
      "execution_count": null,
      "outputs": []
    },
    {
      "cell_type": "code",
      "source": [
        "from sklearn.model_selection import train_test_split\n",
        "from sklearn import preprocessing\n",
        "from sklearn.ensemble import GradientBoostingClassifier\n",
        "from sklearn.model_selection import cross_val_score, cross_val_predict\n",
        "from sklearn.metrics import roc_auc_score"
      ],
      "metadata": {
        "id": "ISd8nOIGkV8H"
      },
      "execution_count": null,
      "outputs": []
    },
    {
      "cell_type": "code",
      "source": [
        "x_train, x_test, y_train, y_test = train_test_split(X, y, test_size=0.2)"
      ],
      "metadata": {
        "id": "YPdWX9J7lCKx"
      },
      "execution_count": null,
      "outputs": []
    },
    {
      "cell_type": "markdown",
      "source": [
        "Normalizando os dados."
      ],
      "metadata": {
        "id": "nBFbAPAxCXl2"
      }
    },
    {
      "cell_type": "code",
      "source": [
        "standard_scaler = preprocessing.StandardScaler()\n",
        "x_train = standard_scaler.fit_transform(x_train)\n",
        "x_test = standard_scaler.transform(x_test)"
      ],
      "metadata": {
        "id": "8BKjbMw0lNh3"
      },
      "execution_count": null,
      "outputs": []
    },
    {
      "cell_type": "markdown",
      "source": [
        "Utilizando GradientBoostingClassifier e crossvalidation para a previsão da adoptabilidade."
      ],
      "metadata": {
        "id": "SFdLrrdQCaub"
      }
    },
    {
      "cell_type": "code",
      "source": [
        "clf = GradientBoostingClassifier(n_estimators=100, learning_rate=0.01, max_depth=3, n_iter_no_change=5).fit(x_train, y_train)\n",
        "crossVal = cross_val_score(clf, x_train, y_train, cv=5)\n",
        "crossVal"
      ],
      "metadata": {
        "colab": {
          "base_uri": "https://localhost:8080/"
        },
        "id": "O4MhYNaylZTG",
        "outputId": "d5ff7615-6cde-430a-cab1-5dfbb737fb03"
      },
      "execution_count": null,
      "outputs": [
        {
          "output_type": "execute_result",
          "data": {
            "text/plain": [
              "array([0.36681951, 0.36140058, 0.37473947, 0.38474364, 0.36613845])"
            ]
          },
          "metadata": {},
          "execution_count": 29
        }
      ]
    },
    {
      "cell_type": "code",
      "source": [
        "y_pred = clf.predict(x_test)\n",
        "y_pred"
      ],
      "metadata": {
        "colab": {
          "base_uri": "https://localhost:8080/"
        },
        "id": "MJcYfPfwlqEz",
        "outputId": "97d39535-1fa5-4861-b8d5-da3cb03eedbb"
      },
      "execution_count": null,
      "outputs": [
        {
          "output_type": "execute_result",
          "data": {
            "text/plain": [
              "array([2, 2, 4, ..., 2, 4, 2])"
            ]
          },
          "metadata": {},
          "execution_count": 30
        }
      ]
    },
    {
      "cell_type": "markdown",
      "source": [
        "Agora, mostrar e comparar resultados."
      ],
      "metadata": {
        "id": "s41NxVETCnXi"
      }
    },
    {
      "cell_type": "code",
      "source": [
        "from sklearn.metrics import confusion_matrix"
      ],
      "metadata": {
        "id": "8yP5w9xflvRn"
      },
      "execution_count": null,
      "outputs": []
    },
    {
      "cell_type": "code",
      "source": [
        "cfm = confusion_matrix(y_test,y_pred)\n",
        "sns.heatmap(cfm, annot=True, cmap=\"Greens\", fmt = 'd')"
      ],
      "metadata": {
        "colab": {
          "base_uri": "https://localhost:8080/",
          "height": 285
        },
        "id": "dE2lijv_l79r",
        "outputId": "3665f4f3-be24-41c5-f3ea-db7e53e9521e"
      },
      "execution_count": null,
      "outputs": [
        {
          "output_type": "execute_result",
          "data": {
            "text/plain": [
              "<matplotlib.axes._subplots.AxesSubplot at 0x7f552d2b3910>"
            ]
          },
          "metadata": {},
          "execution_count": 32
        },
        {
          "output_type": "display_data",
          "data": {
            "text/plain": [
              "<Figure size 432x288 with 2 Axes>"
            ],
            "image/png": "[encoded data removed]"
          },
          "metadata": {}
        }
      ]
    },
    {
      "cell_type": "code",
      "source": [
        "from sklearn.metrics import classification_report, confusion_matrix\n",
        "print(classification_report(y_test,y_pred))"
      ],
      "metadata": {
        "colab": {
          "base_uri": "https://localhost:8080/"
        },
        "id": "kx-S8hFAnSPv",
        "outputId": "c0721550-cb63-40f5-ce4d-b496199bea00"
      },
      "execution_count": null,
      "outputs": [
        {
          "output_type": "stream",
          "name": "stdout",
          "text": [
            "              precision    recall  f1-score   support\n",
            "\n",
            "           0       0.00      0.00      0.00        76\n",
            "           1       0.35      0.03      0.05       662\n",
            "           2       0.29      0.63      0.40       755\n",
            "           3       0.37      0.04      0.08       658\n",
            "           4       0.43      0.64      0.52       848\n",
            "\n",
            "    accuracy                           0.36      2999\n",
            "   macro avg       0.29      0.27      0.21      2999\n",
            "weighted avg       0.35      0.36      0.27      2999\n",
            "\n"
          ]
        }
      ]
    },
    {
      "cell_type": "markdown",
      "source": [
        "A acurácia geral é de 38%, sendo o melhor resultado para esse desafio 46%.\n",
        "\n",
        "Como já haviamos notado, a análise sentimental tende a não ser tão precisa e acaba não tendo uma grande influência na adoção. Muitas das \"notas\" dadas a partir da análise de sentimentos são influenciadas por palavras contidas na descrição que não necessariamente estavam direcionadas ao animal. "
      ],
      "metadata": {
        "id": "82GXUNeFC74b"
      }
    },
    {
      "cell_type": "code",
      "source": [
        "train_2.loc[train_2['compound']==-.981600,['Description']].values"
      ],
      "metadata": {
        "colab": {
          "base_uri": "https://localhost:8080/"
        },
        "id": "xGT6oCPfDbxC",
        "outputId": "0af2af37-9393-4ada-d97f-4c31f6466480"
      },
      "execution_count": null,
      "outputs": [
        {
          "output_type": "execute_result",
          "data": {
            "text/plain": [
              "array([['Meet Baby Rosemary, one of the puppies that we intend to rescue out from the area where they hv been seeking shelter since born - longkang near the surau. We recently found out that the timid mummy that we have been feeding actually gave birth to 7 puppies, but roughly 2 weeks ago, one heartless human being took one stick & jolok the hole near longkang where the puppies have been seeking refuge. And with that 3 was killed. Such a sad thing isnt that such hatred still exist? Why have to kill these innocent puppies? Moving on, we hope to get the 2 remaining puppies soon. They are kinda protective & barks loudly when touch. Who doesnt if they are subject to constant harassment & abuse like the dead siblings, rite?']],\n",
              "      dtype=object)"
            ]
          },
          "metadata": {},
          "execution_count": 34
        }
      ]
    },
    {
      "cell_type": "markdown",
      "source": [
        "A descrição desse animal não fala mal do próprio, mas por contar uma \"história\" de maldade e de morte, utilizando palavras fortes como, **kill, killed, hatred**, etc, acabou que influenciou o modelo a aumentar muito o conceito negativo da descrição e resultando na \"pior descrição\" da base inteira."
      ],
      "metadata": {
        "id": "2X1d5DJ5ExBB"
      }
    }
  ]
}